{
 "cells": [
  {
   "cell_type": "markdown",
   "metadata": {
    "id": "XeV1U7GkVNZY"
   },
   "source": [
    "## Importing necessary libraries"
   ]
  },
  {
   "cell_type": "code",
   "execution_count": 1,
   "metadata": {
    "executionInfo": {
     "elapsed": 3201,
     "status": "ok",
     "timestamp": 1752962363192,
     "user": {
      "displayName": "Dereck Duran",
      "userId": "17766505750008607568"
     },
     "user_tz": 420
    },
    "id": "219CEYUFVNZn"
   },
   "outputs": [],
   "source": [
    "# import the important packages\n",
    "import pandas as pd               # library used for data manipulation and analysis\n",
    "import numpy as np                # library used for working with arrays\n",
    "import matplotlib.pyplot as plt   # library for visualization\n",
    "import seaborn as sns             # library for visualization\n",
    "%matplotlib inline\n",
    "\n",
    "import scipy.stats as stats       # this library contains a large number of probability distributions as well as a growing library of statistical functions"
   ]
  },
  {
   "cell_type": "markdown",
   "metadata": {
    "id": "zwbR4fdpVNZp"
   },
   "source": [
    "# Binomial Distribution"
   ]
  },
  {
   "cell_type": "markdown",
   "metadata": {
    "id": "iLvUFh_6VNZp"
   },
   "source": [
    "### Q1. A LED bulb manufacturing company regularly conducts quality checks at specified periods on the products it manufactures.  Historically, the failure rate for LED light bulbs that the company manufactures is 5%. Suppose a random sample of 10 LED light bulbs is selected. Find the probability distribution for the defective bulbs and answer the following questions."
   ]
  },
  {
   "cell_type": "markdown",
   "metadata": {
    "id": "U8C34C7HVNZr"
   },
   "source": [
    "**a) What is the probability that none of the LED bulbs are defective?**"
   ]
  },
  {
   "cell_type": "code",
   "execution_count": 43,
   "metadata": {
    "executionInfo": {
     "elapsed": 2,
     "status": "ok",
     "timestamp": 1752965336152,
     "user": {
      "displayName": "Dereck Duran",
      "userId": "17766505750008607568"
     },
     "user_tz": 420
    },
    "id": "lFy1Rty933cZ"
   },
   "outputs": [],
   "source": [
    "k = np.arange(0,11)\n",
    "binomial = binom.pmf(k, 10, 0.05)"
   ]
  },
  {
   "cell_type": "code",
   "execution_count": 44,
   "metadata": {
    "colab": {
     "base_uri": "https://localhost:8080/",
     "height": 472
    },
    "executionInfo": {
     "elapsed": 180,
     "status": "ok",
     "timestamp": 1752965432579,
     "user": {
      "displayName": "Dereck Duran",
      "userId": "17766505750008607568"
     },
     "user_tz": 420
    },
    "id": "ub5k2Ad932qp",
    "outputId": "e6f36277-335a-4683-8ef6-d4b1019d3a15"
   },
   "outputs": [
    {
     "data": {
      "image/png": "[encoded data removed]",
      "text/plain": [
       "<Figure size 640x480 with 1 Axes>"
      ]
     },
     "metadata": {},
     "output_type": "display_data"
    }
   ],
   "source": [
    "plt.bar(k, binomial)\n",
    "plt.xlabel('Number of Successes')\n",
    "plt.ylabel('Probability')\n",
    "plt.title(\"Binomial: n=10, p=0.05\")\n",
    "plt.show()"
   ]
  },
  {
   "cell_type": "code",
   "execution_count": 3,
   "metadata": {
    "colab": {
     "base_uri": "https://localhost:8080/"
    },
    "executionInfo": {
     "elapsed": 7,
     "status": "ok",
     "timestamp": 1752962507344,
     "user": {
      "displayName": "Dereck Duran",
      "userId": "17766505750008607568"
     },
     "user_tz": 420
    },
    "id": "SV1js86kOU7E",
    "outputId": "d47b875b-04d3-4d63-c3a2-55abdae03691"
   },
   "outputs": [
    {
     "data": {
      "text/plain": [
       "np.float64(0.5987369392383789)"
      ]
     },
     "execution_count": 3,
     "metadata": {},
     "output_type": "execute_result"
    }
   ],
   "source": [
    "from scipy.stats import binom\n",
    "binom.pmf(0, 10, 0.05)"
   ]
  },
  {
   "cell_type": "markdown",
   "metadata": {
    "id": "siKk2kFfVNZs"
   },
   "source": [
    "**b) What is the probability that exactly one LED bulb is defective?**"
   ]
  },
  {
   "cell_type": "code",
   "execution_count": 5,
   "metadata": {
    "colab": {
     "base_uri": "https://localhost:8080/"
    },
    "executionInfo": {
     "elapsed": 9,
     "status": "ok",
     "timestamp": 1752962538045,
     "user": {
      "displayName": "Dereck Duran",
      "userId": "17766505750008607568"
     },
     "user_tz": 420
    },
    "id": "ujF6aUFqOU7E",
    "outputId": "b6b0e8a2-1cae-435e-9c08-936f0be3408c"
   },
   "outputs": [
    {
     "data": {
      "text/plain": [
       "np.float64(0.3151247048623047)"
      ]
     },
     "execution_count": 5,
     "metadata": {},
     "output_type": "execute_result"
    }
   ],
   "source": [
    "binom.pmf(1, 10, 0.05)"
   ]
  },
  {
   "cell_type": "markdown",
   "metadata": {
    "id": "sTKTp_VbVNZt"
   },
   "source": [
    "**c) What is the probability that two or fewer LED bulbs are defective?**"
   ]
  },
  {
   "cell_type": "markdown",
   "metadata": {
    "id": "_ETr7cSsVNZu"
   },
   "source": [
    "Hint: We need to calculate the cumulative probability of two or fewer LED bulbs being defective."
   ]
  },
  {
   "cell_type": "code",
   "execution_count": 7,
   "metadata": {
    "colab": {
     "base_uri": "https://localhost:8080/"
    },
    "executionInfo": {
     "elapsed": 9,
     "status": "ok",
     "timestamp": 1752962610309,
     "user": {
      "displayName": "Dereck Duran",
      "userId": "17766505750008607568"
     },
     "user_tz": 420
    },
    "id": "WP09IFvqOU7F",
    "outputId": "df59f39b-763b-4a6a-cc45-06d3d37a130c"
   },
   "outputs": [
    {
     "data": {
      "text/plain": [
       "np.float64(0.9884964426207031)"
      ]
     },
     "execution_count": 7,
     "metadata": {},
     "output_type": "execute_result"
    }
   ],
   "source": [
    "binom.cdf(2, 10, 0.05)"
   ]
  },
  {
   "cell_type": "markdown",
   "metadata": {
    "id": "6D3d7vgNVNZv"
   },
   "source": [
    "**d) What is the probability that three or more LED bulbs are defective?**"
   ]
  },
  {
   "cell_type": "markdown",
   "metadata": {
    "id": "-EnDIeiTVNZv"
   },
   "source": [
    "Hint: We need to subtract the cumulative probability of up to 2 defective LED bulbs from 1."
   ]
  },
  {
   "cell_type": "code",
   "execution_count": 8,
   "metadata": {
    "colab": {
     "base_uri": "https://localhost:8080/"
    },
    "executionInfo": {
     "elapsed": 6,
     "status": "ok",
     "timestamp": 1752962640825,
     "user": {
      "displayName": "Dereck Duran",
      "userId": "17766505750008607568"
     },
     "user_tz": 420
    },
    "id": "Gvgs0pv9OU7G",
    "outputId": "05006bc3-8616-4b1e-92eb-b61e5b59e4bd"
   },
   "outputs": [
    {
     "data": {
      "text/plain": [
       "np.float64(0.01150355737929687)"
      ]
     },
     "execution_count": 8,
     "metadata": {},
     "output_type": "execute_result"
    }
   ],
   "source": [
    "1 - binom.cdf(2, 10, 0.05)"
   ]
  },
  {
   "cell_type": "markdown",
   "metadata": {
    "id": "g7pg-lWiVNZx"
   },
   "source": [
    "### Q2. During an NBA game, a basketball player has two foul shots (free throw) and the conversion rate of free-throw shots is 93%. Find the following probabilities."
   ]
  },
  {
   "cell_type": "markdown",
   "metadata": {
    "id": "I1yejxesVNZx"
   },
   "source": [
    "**a) What is the probability that the player will convert both the shots?**"
   ]
  },
  {
   "cell_type": "code",
   "execution_count": 45,
   "metadata": {
    "colab": {
     "base_uri": "https://localhost:8080/"
    },
    "executionInfo": {
     "elapsed": 55,
     "status": "ok",
     "timestamp": 1752965460123,
     "user": {
      "displayName": "Dereck Duran",
      "userId": "17766505750008607568"
     },
     "user_tz": 420
    },
    "id": "fJnPW2F9OU7H",
    "outputId": "cd50f220-f960-40ee-bcd2-19f478d26155"
   },
   "outputs": [
    {
     "data": {
      "text/plain": [
       "np.float64(0.8649000000000001)"
      ]
     },
     "execution_count": 45,
     "metadata": {},
     "output_type": "execute_result"
    }
   ],
   "source": [
    "binom.pmf(2,2,.93)"
   ]
  },
  {
   "cell_type": "markdown",
   "metadata": {
    "id": "0R1FriOVVNZy"
   },
   "source": [
    "**b) What is the probability that the player will convert at least one shot?**"
   ]
  },
  {
   "cell_type": "code",
   "execution_count": 47,
   "metadata": {
    "colab": {
     "base_uri": "https://localhost:8080/"
    },
    "executionInfo": {
     "elapsed": 44,
     "status": "ok",
     "timestamp": 1752965509703,
     "user": {
      "displayName": "Dereck Duran",
      "userId": "17766505750008607568"
     },
     "user_tz": 420
    },
    "id": "saae6x3JOU7H",
    "outputId": "6859ef06-35a8-400c-a64b-b672adbb59a2"
   },
   "outputs": [
    {
     "data": {
      "text/plain": [
       "np.float64(0.9951)"
      ]
     },
     "execution_count": 47,
     "metadata": {},
     "output_type": "execute_result"
    }
   ],
   "source": [
    "1 - binom.pmf(0,2, .93) #why 0? ask Rowell"
   ]
  },
  {
   "cell_type": "markdown",
   "metadata": {
    "id": "jeGWrHJhabri"
   },
   "source": [
    "### Q3.\tOver a long period in a large multinomial corporation, 10% of all sales trainees rated as outstanding, 75% rated as excellent, 10% rated as satisfactory, and 5% are considered unsatisfactory. Find the following probabilities for a sample of 10 trainees selected at random."
   ]
  },
  {
   "cell_type": "markdown",
   "metadata": {
    "id": "f0-NPUBiVNaG"
   },
   "source": [
    "**a) Two are rated as outstanding**"
   ]
  },
  {
   "cell_type": "code",
   "execution_count": 12,
   "metadata": {
    "colab": {
     "base_uri": "https://localhost:8080/"
    },
    "executionInfo": {
     "elapsed": 3,
     "status": "ok",
     "timestamp": 1752962855453,
     "user": {
      "displayName": "Dereck Duran",
      "userId": "17766505750008607568"
     },
     "user_tz": 420
    },
    "id": "foCCBOlVOU7H",
    "outputId": "cd2d9a8b-cef8-41eb-8dca-23f7b525e0bf"
   },
   "outputs": [
    {
     "data": {
      "text/plain": [
       "np.float64(0.19371024450000007)"
      ]
     },
     "execution_count": 12,
     "metadata": {},
     "output_type": "execute_result"
    }
   ],
   "source": [
    "binom.pmf(2, 10, .1)"
   ]
  },
  {
   "cell_type": "markdown",
   "metadata": {
    "id": "RZCEMFSrVNaG"
   },
   "source": [
    "**b) Two or more are rated as outstanding**"
   ]
  },
  {
   "cell_type": "code",
   "execution_count": 13,
   "metadata": {
    "colab": {
     "base_uri": "https://localhost:8080/"
    },
    "executionInfo": {
     "elapsed": 12,
     "status": "ok",
     "timestamp": 1752962902925,
     "user": {
      "displayName": "Dereck Duran",
      "userId": "17766505750008607568"
     },
     "user_tz": 420
    },
    "id": "ZU8wazl-OU7I",
    "outputId": "b2000e22-24d2-460e-c24f-f924202ec9c4"
   },
   "outputs": [
    {
     "data": {
      "text/plain": [
       "np.float64(0.26390107090000003)"
      ]
     },
     "execution_count": 13,
     "metadata": {},
     "output_type": "execute_result"
    }
   ],
   "source": [
    "1 - binom.cdf(1, 10, .1)"
   ]
  },
  {
   "cell_type": "markdown",
   "metadata": {
    "id": "u5_21Ab8VNaH"
   },
   "source": [
    "**c) Eight of the ten are rated either outstanding or excellent**"
   ]
  },
  {
   "cell_type": "code",
   "execution_count": 14,
   "metadata": {
    "colab": {
     "base_uri": "https://localhost:8080/"
    },
    "executionInfo": {
     "elapsed": 7,
     "status": "ok",
     "timestamp": 1752962994265,
     "user": {
      "displayName": "Dereck Duran",
      "userId": "17766505750008607568"
     },
     "user_tz": 420
    },
    "id": "jKJTZd6NOU7I",
    "outputId": "d8d3292d-d025-4658-ccd9-378f85736847"
   },
   "outputs": [
    {
     "data": {
      "text/plain": [
       "np.float64(0.27589665660205076)"
      ]
     },
     "execution_count": 14,
     "metadata": {},
     "output_type": "execute_result"
    }
   ],
   "source": [
    "binom.pmf(8, 10, .85)"
   ]
  },
  {
   "cell_type": "markdown",
   "metadata": {
    "id": "by_BuepFVNaH"
   },
   "source": [
    "**d) None of the trainees are rated as unsatisfactory**"
   ]
  },
  {
   "cell_type": "code",
   "execution_count": 15,
   "metadata": {
    "colab": {
     "base_uri": "https://localhost:8080/"
    },
    "executionInfo": {
     "elapsed": 9,
     "status": "ok",
     "timestamp": 1752963112566,
     "user": {
      "displayName": "Dereck Duran",
      "userId": "17766505750008607568"
     },
     "user_tz": 420
    },
    "id": "jDycUhzlOU7I",
    "outputId": "e1b5c460-790e-4a20-c082-3779daec1083"
   },
   "outputs": [
    {
     "data": {
      "text/plain": [
       "np.float64(0.5987369392383789)"
      ]
     },
     "execution_count": 15,
     "metadata": {},
     "output_type": "execute_result"
    }
   ],
   "source": [
    "binom.pmf(0,10,.05)"
   ]
  },
  {
   "cell_type": "markdown",
   "metadata": {
    "id": "wSvG9EbKOU7I"
   },
   "source": [
    "# Uniform Distribution"
   ]
  },
  {
   "cell_type": "markdown",
   "metadata": {
    "id": "1-lP_U28aUuP"
   },
   "source": [
    "### Q4. A University records the time taken by students to solve the statistics assignment in 'assignment.csv’. Plot the probability distribution this data follows and answer the following questions."
   ]
  },
  {
   "cell_type": "code",
   "execution_count": 24,
   "metadata": {
    "executionInfo": {
     "elapsed": 11,
     "status": "ok",
     "timestamp": 1752963695397,
     "user": {
      "displayName": "Dereck Duran",
      "userId": "17766505750008607568"
     },
     "user_tz": 420
    },
    "id": "x1I5dXW4OU7I"
   },
   "outputs": [],
   "source": [
    "from scipy.stats import uniform"
   ]
  },
  {
   "cell_type": "code",
   "execution_count": 17,
   "metadata": {
    "colab": {
     "base_uri": "https://localhost:8080/"
    },
    "executionInfo": {
     "elapsed": 17437,
     "status": "ok",
     "timestamp": 1752963274909,
     "user": {
      "displayName": "Dereck Duran",
      "userId": "17766505750008607568"
     },
     "user_tz": 420
    },
    "id": "BpjFS7WEv9Vj",
    "outputId": "09fa6abf-b57f-4afe-8d0f-6ce6412e09d7"
   },
   "outputs": [
    {
     "name": "stdout",
     "output_type": "stream",
     "text": [
      "Mounted at /content/drive\n"
     ]
    }
   ],
   "source": [
    "from google.colab import drive\n",
    "drive.mount('/content/drive')"
   ]
  },
  {
   "cell_type": "code",
   "execution_count": 20,
   "metadata": {
    "executionInfo": {
     "elapsed": 16,
     "status": "ok",
     "timestamp": 1752963433077,
     "user": {
      "displayName": "Dereck Duran",
      "userId": "17766505750008607568"
     },
     "user_tz": 420
    },
    "id": "psmz9tQuwuVs"
   },
   "outputs": [],
   "source": [
    "asig = pd.read_csv('/content/drive/MyDrive/DSML/Week2/assignment.csv')"
   ]
  },
  {
   "cell_type": "code",
   "execution_count": 21,
   "metadata": {
    "colab": {
     "base_uri": "https://localhost:8080/",
     "height": 206
    },
    "executionInfo": {
     "elapsed": 72,
     "status": "ok",
     "timestamp": 1752963489565,
     "user": {
      "displayName": "Dereck Duran",
      "userId": "17766505750008607568"
     },
     "user_tz": 420
    },
    "id": "BHu05MNZwvyp",
    "outputId": "cf38b9fd-80cc-4d65-8d11-3c0b5c511569"
   },
   "outputs": [
    {
     "data": {
      "application/vnd.google.colaboratory.intrinsic+json": {
       "summary": "{\n  \"name\": \"asig\",\n  \"rows\": 1000,\n  \"fields\": [\n    {\n      \"column\": \"Student_ID\",\n      \"properties\": {\n        \"dtype\": \"number\",\n        \"std\": 293,\n        \"min\": 2,\n        \"max\": 999,\n        \"num_unique_values\": 653,\n        \"samples\": [\n          692,\n          234,\n          552\n        ],\n        \"semantic_type\": \"\",\n        \"description\": \"\"\n      }\n    },\n    {\n      \"column\": \"Time_taken\",\n      \"properties\": {\n        \"dtype\": \"number\",\n        \"std\": 0.8510824800145912,\n        \"min\": 1.0,\n        \"max\": 4.0,\n        \"num_unique_values\": 286,\n        \"samples\": [\n          1.28,\n          3.36,\n          3.42\n        ],\n        \"semantic_type\": \"\",\n        \"description\": \"\"\n      }\n    }\n  ]\n}",
       "type": "dataframe",
       "variable_name": "asig"
      },
      "text/html": [
       "\n",
       "  <div id=\"df-678c67a2-eb3a-49c8-9d0f-ac9a16b6a644\" class=\"colab-df-container\">\n",
       "    <div>\n",
       "<style scoped>\n",
       "    .dataframe tbody tr th:only-of-type {\n",
       "        vertical-align: middle;\n",
       "    }\n",
       "\n",
       "    .dataframe tbody tr th {\n",
       "        vertical-align: top;\n",
       "    }\n",
       "\n",
       "    .dataframe thead th {\n",
       "        text-align: right;\n",
       "    }\n",
       "</style>\n",
       "<table border=\"1\" class=\"dataframe\">\n",
       "  <thead>\n",
       "    <tr style=\"text-align: right;\">\n",
       "      <th></th>\n",
       "      <th>Student_ID</th>\n",
       "      <th>Time_taken</th>\n",
       "    </tr>\n",
       "  </thead>\n",
       "  <tbody>\n",
       "    <tr>\n",
       "      <th>0</th>\n",
       "      <td>955</td>\n",
       "      <td>2.79</td>\n",
       "    </tr>\n",
       "    <tr>\n",
       "      <th>1</th>\n",
       "      <td>379</td>\n",
       "      <td>3.32</td>\n",
       "    </tr>\n",
       "    <tr>\n",
       "      <th>2</th>\n",
       "      <td>922</td>\n",
       "      <td>1.35</td>\n",
       "    </tr>\n",
       "    <tr>\n",
       "      <th>3</th>\n",
       "      <td>312</td>\n",
       "      <td>2.35</td>\n",
       "    </tr>\n",
       "    <tr>\n",
       "      <th>4</th>\n",
       "      <td>670</td>\n",
       "      <td>1.98</td>\n",
       "    </tr>\n",
       "  </tbody>\n",
       "</table>\n",
       "</div>\n",
       "    <div class=\"colab-df-buttons\">\n",
       "\n",
       "  <div class=\"colab-df-container\">\n",
       "    <button class=\"colab-df-convert\" onclick=\"convertToInteractive('df-678c67a2-eb3a-49c8-9d0f-ac9a16b6a644')\"\n",
       "            title=\"Convert this dataframe to an interactive table.\"\n",
       "            style=\"display:none;\">\n",
       "\n",
       "  <svg xmlns=\"http://www.w3.org/2000/svg\" height=\"24px\" viewBox=\"0 -960 960 960\">\n",
       "    <path d=\"M120-120v-720h720v720H120Zm60-500h600v-160H180v160Zm220 220h160v-160H400v160Zm0 220h160v-160H400v160ZM180-400h160v-160H180v160Zm440 0h160v-160H620v160ZM180-180h160v-160H180v160Zm440 0h160v-160H620v160Z\"/>\n",
       "  </svg>\n",
       "    </button>\n",
       "\n",
       "  <style>\n",
       "    .colab-df-container {\n",
       "      display:flex;\n",
       "      gap: 12px;\n",
       "    }\n",
       "\n",
       "    .colab-df-convert {\n",
       "      background-color: #E8F0FE;\n",
       "      border: none;\n",
       "      border-radius: 50%;\n",
       "      cursor: pointer;\n",
       "      display: none;\n",
       "      fill: #1967D2;\n",
       "      height: 32px;\n",
       "      padding: 0 0 0 0;\n",
       "      width: 32px;\n",
       "    }\n",
       "\n",
       "    .colab-df-convert:hover {\n",
       "      background-color: #E2EBFA;\n",
       "      box-shadow: 0px 1px 2px rgba(60, 64, 67, 0.3), 0px 1px 3px 1px rgba(60, 64, 67, 0.15);\n",
       "      fill: #174EA6;\n",
       "    }\n",
       "\n",
       "    .colab-df-buttons div {\n",
       "      margin-bottom: 4px;\n",
       "    }\n",
       "\n",
       "    [theme=dark] .colab-df-convert {\n",
       "      background-color: #3B4455;\n",
       "      fill: #D2E3FC;\n",
       "    }\n",
       "\n",
       "    [theme=dark] .colab-df-convert:hover {\n",
       "      background-color: #434B5C;\n",
       "      box-shadow: 0px 1px 3px 1px rgba(0, 0, 0, 0.15);\n",
       "      filter: drop-shadow(0px 1px 2px rgba(0, 0, 0, 0.3));\n",
       "      fill: #FFFFFF;\n",
       "    }\n",
       "  </style>\n",
       "\n",
       "    <script>\n",
       "      const buttonEl =\n",
       "        document.querySelector('#df-678c67a2-eb3a-49c8-9d0f-ac9a16b6a644 button.colab-df-convert');\n",
       "      buttonEl.style.display =\n",
       "        google.colab.kernel.accessAllowed ? 'block' : 'none';\n",
       "\n",
       "      async function convertToInteractive(key) {\n",
       "        const element = document.querySelector('#df-678c67a2-eb3a-49c8-9d0f-ac9a16b6a644');\n",
       "        const dataTable =\n",
       "          await google.colab.kernel.invokeFunction('convertToInteractive',\n",
       "                                                    [key], {});\n",
       "        if (!dataTable) return;\n",
       "\n",
       "        const docLinkHtml = 'Like what you see? Visit the ' +\n",
       "          '<a target=\"_blank\" href=https://colab.research.google.com/notebooks/data_table.ipynb>data table notebook</a>'\n",
       "          + ' to learn more about interactive tables.';\n",
       "        element.innerHTML = '';\n",
       "        dataTable['output_type'] = 'display_data';\n",
       "        await google.colab.output.renderOutput(dataTable, element);\n",
       "        const docLink = document.createElement('div');\n",
       "        docLink.innerHTML = docLinkHtml;\n",
       "        element.appendChild(docLink);\n",
       "      }\n",
       "    </script>\n",
       "  </div>\n",
       "\n",
       "\n",
       "    <div id=\"df-d1dd8221-47ca-4105-b50a-4c52488ba5c3\">\n",
       "      <button class=\"colab-df-quickchart\" onclick=\"quickchart('df-d1dd8221-47ca-4105-b50a-4c52488ba5c3')\"\n",
       "                title=\"Suggest charts\"\n",
       "                style=\"display:none;\">\n",
       "\n",
       "<svg xmlns=\"http://www.w3.org/2000/svg\" height=\"24px\"viewBox=\"0 0 24 24\"\n",
       "     width=\"24px\">\n",
       "    <g>\n",
       "        <path d=\"M19 3H5c-1.1 0-2 .9-2 2v14c0 1.1.9 2 2 2h14c1.1 0 2-.9 2-2V5c0-1.1-.9-2-2-2zM9 17H7v-7h2v7zm4 0h-2V7h2v10zm4 0h-2v-4h2v4z\"/>\n",
       "    </g>\n",
       "</svg>\n",
       "      </button>\n",
       "\n",
       "<style>\n",
       "  .colab-df-quickchart {\n",
       "      --bg-color: #E8F0FE;\n",
       "      --fill-color: #1967D2;\n",
       "      --hover-bg-color: #E2EBFA;\n",
       "      --hover-fill-color: #174EA6;\n",
       "      --disabled-fill-color: #AAA;\n",
       "      --disabled-bg-color: #DDD;\n",
       "  }\n",
       "\n",
       "  [theme=dark] .colab-df-quickchart {\n",
       "      --bg-color: #3B4455;\n",
       "      --fill-color: #D2E3FC;\n",
       "      --hover-bg-color: #434B5C;\n",
       "      --hover-fill-color: #FFFFFF;\n",
       "      --disabled-bg-color: #3B4455;\n",
       "      --disabled-fill-color: #666;\n",
       "  }\n",
       "\n",
       "  .colab-df-quickchart {\n",
       "    background-color: var(--bg-color);\n",
       "    border: none;\n",
       "    border-radius: 50%;\n",
       "    cursor: pointer;\n",
       "    display: none;\n",
       "    fill: var(--fill-color);\n",
       "    height: 32px;\n",
       "    padding: 0;\n",
       "    width: 32px;\n",
       "  }\n",
       "\n",
       "  .colab-df-quickchart:hover {\n",
       "    background-color: var(--hover-bg-color);\n",
       "    box-shadow: 0 1px 2px rgba(60, 64, 67, 0.3), 0 1px 3px 1px rgba(60, 64, 67, 0.15);\n",
       "    fill: var(--button-hover-fill-color);\n",
       "  }\n",
       "\n",
       "  .colab-df-quickchart-complete:disabled,\n",
       "  .colab-df-quickchart-complete:disabled:hover {\n",
       "    background-color: var(--disabled-bg-color);\n",
       "    fill: var(--disabled-fill-color);\n",
       "    box-shadow: none;\n",
       "  }\n",
       "\n",
       "  .colab-df-spinner {\n",
       "    border: 2px solid var(--fill-color);\n",
       "    border-color: transparent;\n",
       "    border-bottom-color: var(--fill-color);\n",
       "    animation:\n",
       "      spin 1s steps(1) infinite;\n",
       "  }\n",
       "\n",
       "  @keyframes spin {\n",
       "    0% {\n",
       "      border-color: transparent;\n",
       "      border-bottom-color: var(--fill-color);\n",
       "      border-left-color: var(--fill-color);\n",
       "    }\n",
       "    20% {\n",
       "      border-color: transparent;\n",
       "      border-left-color: var(--fill-color);\n",
       "      border-top-color: var(--fill-color);\n",
       "    }\n",
       "    30% {\n",
       "      border-color: transparent;\n",
       "      border-left-color: var(--fill-color);\n",
       "      border-top-color: var(--fill-color);\n",
       "      border-right-color: var(--fill-color);\n",
       "    }\n",
       "    40% {\n",
       "      border-color: transparent;\n",
       "      border-right-color: var(--fill-color);\n",
       "      border-top-color: var(--fill-color);\n",
       "    }\n",
       "    60% {\n",
       "      border-color: transparent;\n",
       "      border-right-color: var(--fill-color);\n",
       "    }\n",
       "    80% {\n",
       "      border-color: transparent;\n",
       "      border-right-color: var(--fill-color);\n",
       "      border-bottom-color: var(--fill-color);\n",
       "    }\n",
       "    90% {\n",
       "      border-color: transparent;\n",
       "      border-bottom-color: var(--fill-color);\n",
       "    }\n",
       "  }\n",
       "</style>\n",
       "\n",
       "      <script>\n",
       "        async function quickchart(key) {\n",
       "          const quickchartButtonEl =\n",
       "            document.querySelector('#' + key + ' button');\n",
       "          quickchartButtonEl.disabled = true;  // To prevent multiple clicks.\n",
       "          quickchartButtonEl.classList.add('colab-df-spinner');\n",
       "          try {\n",
       "            const charts = await google.colab.kernel.invokeFunction(\n",
       "                'suggestCharts', [key], {});\n",
       "          } catch (error) {\n",
       "            console.error('Error during call to suggestCharts:', error);\n",
       "          }\n",
       "          quickchartButtonEl.classList.remove('colab-df-spinner');\n",
       "          quickchartButtonEl.classList.add('colab-df-quickchart-complete');\n",
       "        }\n",
       "        (() => {\n",
       "          let quickchartButtonEl =\n",
       "            document.querySelector('#df-d1dd8221-47ca-4105-b50a-4c52488ba5c3 button');\n",
       "          quickchartButtonEl.style.display =\n",
       "            google.colab.kernel.accessAllowed ? 'block' : 'none';\n",
       "        })();\n",
       "      </script>\n",
       "    </div>\n",
       "\n",
       "    </div>\n",
       "  </div>\n"
      ],
      "text/plain": [
       "   Student_ID  Time_taken\n",
       "0         955        2.79\n",
       "1         379        3.32\n",
       "2         922        1.35\n",
       "3         312        2.35\n",
       "4         670        1.98"
      ]
     },
     "execution_count": 21,
     "metadata": {},
     "output_type": "execute_result"
    }
   ],
   "source": [
    "asig.head()"
   ]
  },
  {
   "cell_type": "code",
   "execution_count": 23,
   "metadata": {
    "colab": {
     "base_uri": "https://localhost:8080/",
     "height": 472
    },
    "executionInfo": {
     "elapsed": 256,
     "status": "ok",
     "timestamp": 1752963654112,
     "user": {
      "displayName": "Dereck Duran",
      "userId": "17766505750008607568"
     },
     "user_tz": 420
    },
    "id": "UzG8vKj2xMZY",
    "outputId": "4fa4cb75-89b0-4661-c994-867112046fdc"
   },
   "outputs": [
    {
     "data": {
      "image/png": "[encoded data removed]",
      "text/plain": [
       "<Figure size 640x480 with 1 Axes>"
      ]
     },
     "metadata": {},
     "output_type": "display_data"
    }
   ],
   "source": [
    "plt.hist(asig['Time_taken'], density=True)\n",
    "plt.xlabel('Time taken')\n",
    "plt.ylabel('Probability')\n",
    "plt.title('Probabilty Distribution')\n",
    "\n",
    "plt.show()"
   ]
  },
  {
   "cell_type": "markdown",
   "metadata": {
    "id": "riMH9942kyzJ"
   },
   "source": [
    "**a) Find the probability that a randomly selected student requires at most 2.5 hours to complete the assignment.**"
   ]
  },
  {
   "cell_type": "markdown",
   "metadata": {
    "id": "sdHUJDVxOU7J"
   },
   "source": [
    "**CDF:** of a random variable (X) is the probability that X will take the value less than or equal to x. It can be represented mathematically as below:\n",
    "\n",
    ">$F_X(x) = P(X\\leq x)$\n",
    "\n",
    "In our case, the random variable (X) is the number of hours.\n",
    "\n",
    "$ P(X\\leq 2.5)$"
   ]
  },
  {
   "cell_type": "code",
   "execution_count": 25,
   "metadata": {
    "colab": {
     "base_uri": "https://localhost:8080/"
    },
    "executionInfo": {
     "elapsed": 15,
     "status": "ok",
     "timestamp": 1752963758975,
     "user": {
      "displayName": "Dereck Duran",
      "userId": "17766505750008607568"
     },
     "user_tz": 420
    },
    "id": "5DByxNiSOU7J",
    "outputId": "247d8a58-d38f-4d30-b185-21957bfa68e2"
   },
   "outputs": [
    {
     "data": {
      "text/plain": [
       "np.float64(0.5)"
      ]
     },
     "execution_count": 25,
     "metadata": {},
     "output_type": "execute_result"
    }
   ],
   "source": [
    "uniform.cdf(2.5, loc = 1, scale = 3)"
   ]
  },
  {
   "cell_type": "code",
   "execution_count": 26,
   "metadata": {
    "colab": {
     "base_uri": "https://localhost:8080/",
     "height": 490
    },
    "executionInfo": {
     "elapsed": 333,
     "status": "ok",
     "timestamp": 1752964086226,
     "user": {
      "displayName": "Dereck Duran",
      "userId": "17766505750008607568"
     },
     "user_tz": 420
    },
    "id": "KBWYALTmyYzb",
    "outputId": "ca3138be-b356-4f5e-9f2f-4d5ca66c1302"
   },
   "outputs": [
    {
     "data": {
      "text/plain": [
       "<matplotlib.collections.FillBetweenPolyCollection at 0x7e9729a03dd0>"
      ]
     },
     "execution_count": 26,
     "metadata": {},
     "output_type": "execute_result"
    },
    {
     "data": {
      "image/png": "[encoded data removed]",
      "text/plain": [
       "<Figure size 640x480 with 1 Axes>"
      ]
     },
     "metadata": {},
     "output_type": "display_data"
    }
   ],
   "source": [
    "plt.hist(asig['Time_taken'], density=True)\n",
    "plt.xlabel('Time taken')\n",
    "plt.ylabel('Probability')\n",
    "plt.title('Probabilty Distribution')\n",
    "\n",
    "# Add a shaded area for the probability of time taken <= 2.5 hours\n",
    "plt.axvline(x=2.5, color='red', linestyle='--', label='2.5 hours')\n",
    "plt.fill_between([asig['Time_taken'].min(), 2.5], 0, 1/(asig['Time_taken'].max() - asig['Time_taken'].min()), color='red', alpha=0.3, label='P(Time <= 2.5)')"
   ]
  },
  {
   "cell_type": "markdown",
   "metadata": {
    "id": "C3TVqrPQlt1h"
   },
   "source": [
    "**b) Find the probability that a randomly selected student requires at least 3 hours to complete the quiz.**\n",
    "\n",
    "$ P(X>=3)$"
   ]
  },
  {
   "cell_type": "code",
   "execution_count": 29,
   "metadata": {
    "colab": {
     "base_uri": "https://localhost:8080/"
    },
    "executionInfo": {
     "elapsed": 20,
     "status": "ok",
     "timestamp": 1752964359687,
     "user": {
      "displayName": "Dereck Duran",
      "userId": "17766505750008607568"
     },
     "user_tz": 420
    },
    "id": "nxxHdtG1OU7J",
    "outputId": "4beb2d58-ad07-4e5c-f435-aa0a07c6bf50"
   },
   "outputs": [
    {
     "data": {
      "text/plain": [
       "np.float64(0.33333333333333337)"
      ]
     },
     "execution_count": 29,
     "metadata": {},
     "output_type": "execute_result"
    }
   ],
   "source": [
    "1 - uniform.cdf(3, loc = 1, scale = 3)"
   ]
  },
  {
   "cell_type": "markdown",
   "metadata": {
    "id": "ln66mUUsmad-"
   },
   "source": [
    "**c) Find the probability that a randomly selected student requires 1.5 to 3.5 hours to complete the quiz.**\n",
    "\n",
    "$ P(1.5<= X <=3.5)$"
   ]
  },
  {
   "cell_type": "code",
   "execution_count": 30,
   "metadata": {
    "colab": {
     "base_uri": "https://localhost:8080/"
    },
    "executionInfo": {
     "elapsed": 8,
     "status": "ok",
     "timestamp": 1752964365098,
     "user": {
      "displayName": "Dereck Duran",
      "userId": "17766505750008607568"
     },
     "user_tz": 420
    },
    "id": "du9_ytnVOU7J",
    "outputId": "ddb241ab-fca7-42e8-a844-98ef0bea7e62"
   },
   "outputs": [
    {
     "data": {
      "text/plain": [
       "np.float64(0.6666666666666667)"
      ]
     },
     "execution_count": 30,
     "metadata": {},
     "output_type": "execute_result"
    }
   ],
   "source": [
    "uniform.cdf(3.5, loc = 1, scale = 3) - uniform.cdf(1.5, loc = 1, scale = 3)"
   ]
  },
  {
   "cell_type": "markdown",
   "metadata": {
    "id": "xh7vsKOHVNZ8"
   },
   "source": [
    "# Normal Distribution"
   ]
  },
  {
   "cell_type": "markdown",
   "metadata": {
    "id": "yRiWnS4VabsT"
   },
   "source": [
    "### Q5. According to the Telecommunication Industry, the average monthly cell phone bill is Rs. 850 with a standard deviation of Rs. 150. Assuming that the monthly bill follows a normal distribution, answer the following questions."
   ]
  },
  {
   "cell_type": "markdown",
   "metadata": {
    "id": "MJ7wKYwvVNZ_"
   },
   "source": [
    "**a) What is the probability that a randomly selected cell phone bill is more than Rs 1200?**"
   ]
  },
  {
   "cell_type": "code",
   "execution_count": 31,
   "metadata": {
    "colab": {
     "base_uri": "https://localhost:8080/"
    },
    "executionInfo": {
     "elapsed": 4,
     "status": "ok",
     "timestamp": 1752964475030,
     "user": {
      "displayName": "Dereck Duran",
      "userId": "17766505750008607568"
     },
     "user_tz": 420
    },
    "id": "udu5sxrUOU7K",
    "outputId": "c4351586-b5c8-41e9-acfd-3ffe7734c569"
   },
   "outputs": [
    {
     "data": {
      "text/plain": [
       "np.float64(0.009815328628645315)"
      ]
     },
     "execution_count": 31,
     "metadata": {},
     "output_type": "execute_result"
    }
   ],
   "source": [
    "from scipy.stats import norm\n",
    "1 - norm.cdf(1200, 850, 150)"
   ]
  },
  {
   "cell_type": "markdown",
   "metadata": {
    "id": "1eoJzslRVNZ_"
   },
   "source": [
    "**b) What is the probability that a randomly selected cell phone bill is between Rs 750 and Rs 1200?**"
   ]
  },
  {
   "cell_type": "code",
   "execution_count": 32,
   "metadata": {
    "colab": {
     "base_uri": "https://localhost:8080/"
    },
    "executionInfo": {
     "elapsed": 7,
     "status": "ok",
     "timestamp": 1752964503933,
     "user": {
      "displayName": "Dereck Duran",
      "userId": "17766505750008607568"
     },
     "user_tz": 420
    },
    "id": "5A7daMJaOU7K",
    "outputId": "be5c4c9b-64b1-45d7-bf63-17a1e5d7a236"
   },
   "outputs": [
    {
     "data": {
      "text/plain": [
       "np.float64(0.7376921338244318)"
      ]
     },
     "execution_count": 32,
     "metadata": {},
     "output_type": "execute_result"
    }
   ],
   "source": [
    "norm.cdf(1200, 850, 150) - norm.cdf(750, 850, 150)"
   ]
  },
  {
   "cell_type": "markdown",
   "metadata": {
    "id": "tGxBocT6VNZ_"
   },
   "source": [
    "**c) What is the probability that a randomly selected cell phone bill is no more than Rs 650?**"
   ]
  },
  {
   "cell_type": "code",
   "execution_count": 33,
   "metadata": {
    "colab": {
     "base_uri": "https://localhost:8080/"
    },
    "executionInfo": {
     "elapsed": 9,
     "status": "ok",
     "timestamp": 1752964530915,
     "user": {
      "displayName": "Dereck Duran",
      "userId": "17766505750008607568"
     },
     "user_tz": 420
    },
    "id": "L5rs8hyTOU7K",
    "outputId": "892a745b-d259-489a-dc43-c0c125a11b4c"
   },
   "outputs": [
    {
     "data": {
      "text/plain": [
       "np.float64(0.09121121972586788)"
      ]
     },
     "execution_count": 33,
     "metadata": {},
     "output_type": "execute_result"
    }
   ],
   "source": [
    "norm.cdf(650, 850, 150)"
   ]
  },
  {
   "cell_type": "markdown",
   "metadata": {
    "id": "oFmIG_sqVNaA"
   },
   "source": [
    "**d) What is the amount above which lies in the top 15% of cell phone bills?**"
   ]
  },
  {
   "cell_type": "code",
   "execution_count": 34,
   "metadata": {
    "colab": {
     "base_uri": "https://localhost:8080/"
    },
    "executionInfo": {
     "elapsed": 5,
     "status": "ok",
     "timestamp": 1752964564953,
     "user": {
      "displayName": "Dereck Duran",
      "userId": "17766505750008607568"
     },
     "user_tz": 420
    },
    "id": "6wBe_6kdOU7K",
    "outputId": "c3dc50c3-b48b-455d-c499-c09d848e672b"
   },
   "outputs": [
    {
     "data": {
      "text/plain": [
       "np.float64(1005.4650084240685)"
      ]
     },
     "execution_count": 34,
     "metadata": {},
     "output_type": "execute_result"
    }
   ],
   "source": [
    "norm.ppf(0.85, 850, 150)"
   ]
  },
  {
   "cell_type": "markdown",
   "metadata": {
    "id": "_lNAMUvvVNaA"
   },
   "source": [
    "**e) What is the amount below which lies the bottom 25% of cell phone bills?**"
   ]
  },
  {
   "cell_type": "code",
   "execution_count": 35,
   "metadata": {
    "colab": {
     "base_uri": "https://localhost:8080/"
    },
    "executionInfo": {
     "elapsed": 5,
     "status": "ok",
     "timestamp": 1752964584221,
     "user": {
      "displayName": "Dereck Duran",
      "userId": "17766505750008607568"
     },
     "user_tz": 420
    },
    "id": "MtDgqMYSOU7K",
    "outputId": "bee83b23-8ed1-4627-f6b8-82ae28477c2c"
   },
   "outputs": [
    {
     "data": {
      "text/plain": [
       "np.float64(748.8265374705877)"
      ]
     },
     "execution_count": 35,
     "metadata": {},
     "output_type": "execute_result"
    }
   ],
   "source": [
    "norm.ppf(0.25, 850, 150)"
   ]
  },
  {
   "cell_type": "markdown",
   "metadata": {
    "id": "QmtfulFDVNaH"
   },
   "source": [
    "### Q6. The mean filling capacity for a coke bottle is 500 ml with a standard deviation of 20 ml. Assume that it follows a normal distribution and answer the following questions."
   ]
  },
  {
   "cell_type": "markdown",
   "metadata": {
    "id": "ak4RyMGVVNaI"
   },
   "source": [
    "**a) What is the probability that the bottle filled less than 480 ml?**"
   ]
  },
  {
   "cell_type": "code",
   "execution_count": 36,
   "metadata": {
    "colab": {
     "base_uri": "https://localhost:8080/"
    },
    "executionInfo": {
     "elapsed": 5,
     "status": "ok",
     "timestamp": 1752964624049,
     "user": {
      "displayName": "Dereck Duran",
      "userId": "17766505750008607568"
     },
     "user_tz": 420
    },
    "id": "o3oIQT9VOU7L",
    "outputId": "cfe5ce50-24f4-4620-d41f-c004e7375022"
   },
   "outputs": [
    {
     "data": {
      "text/plain": [
       "np.float64(0.15865525393145707)"
      ]
     },
     "execution_count": 36,
     "metadata": {},
     "output_type": "execute_result"
    }
   ],
   "source": [
    "norm.cdf(480, 500, 20)"
   ]
  },
  {
   "cell_type": "markdown",
   "metadata": {
    "id": "ILDdv_5fVNaI"
   },
   "source": [
    "**b) What is the probability that the bottle filled more than 520 ml?**"
   ]
  },
  {
   "cell_type": "code",
   "execution_count": 37,
   "metadata": {
    "colab": {
     "base_uri": "https://localhost:8080/"
    },
    "executionInfo": {
     "elapsed": 8,
     "status": "ok",
     "timestamp": 1752964646347,
     "user": {
      "displayName": "Dereck Duran",
      "userId": "17766505750008607568"
     },
     "user_tz": 420
    },
    "id": "_mAmpE8lOU7L",
    "outputId": "46f9dc13-004c-4b33-a049-be302b27e32d"
   },
   "outputs": [
    {
     "data": {
      "text/plain": [
       "np.float64(0.15865525393145707)"
      ]
     },
     "execution_count": 37,
     "metadata": {},
     "output_type": "execute_result"
    }
   ],
   "source": [
    "1 - norm.cdf(520, 500, 20)"
   ]
  },
  {
   "cell_type": "markdown",
   "metadata": {
    "id": "GDGLNR7dVNaJ"
   },
   "source": [
    "**c) What is the probability that the bottle filled between 470 ml to 525 ml?**"
   ]
  },
  {
   "cell_type": "code",
   "execution_count": 38,
   "metadata": {
    "colab": {
     "base_uri": "https://localhost:8080/"
    },
    "executionInfo": {
     "elapsed": 14,
     "status": "ok",
     "timestamp": 1752964685429,
     "user": {
      "displayName": "Dereck Duran",
      "userId": "17766505750008607568"
     },
     "user_tz": 420
    },
    "id": "c3dk0QvvOU7L",
    "outputId": "351894d0-1a60-439d-f3c6-b184bd70aa8e"
   },
   "outputs": [
    {
     "data": {
      "text/plain": [
       "np.float64(0.8275430250642866)"
      ]
     },
     "execution_count": 38,
     "metadata": {},
     "output_type": "execute_result"
    }
   ],
   "source": [
    "norm.cdf(525, 500, 20) - norm.cdf(470, 500, 20)"
   ]
  },
  {
   "cell_type": "markdown",
   "metadata": {
    "id": "7WFVLPL-VNaM"
   },
   "source": [
    "### Q7. In 2 Liter soft drink bottles, the drink filled is normally distributed, with a mean of 2.0 liters and a standard deviation of 0.05 liter. If bottles contain less than 95% of the listed net content (1.90 liters), the manufacturer may be subject to a penalty by the state office of consumer affairs. Bottles that have a net quantity above 2.1 liters may cause excess spillage upon opening. Answer the following questions."
   ]
  },
  {
   "cell_type": "markdown",
   "metadata": {
    "id": "KJh8EodMVNaM"
   },
   "source": [
    "**a) What is the probability that the bottle content is between 1.9 and 2.0 liters?**"
   ]
  },
  {
   "cell_type": "code",
   "execution_count": 39,
   "metadata": {
    "colab": {
     "base_uri": "https://localhost:8080/"
    },
    "executionInfo": {
     "elapsed": 7,
     "status": "ok",
     "timestamp": 1752965054616,
     "user": {
      "displayName": "Dereck Duran",
      "userId": "17766505750008607568"
     },
     "user_tz": 420
    },
    "id": "68GUzlTiOU7L",
    "outputId": "0e95a854-684c-487d-9d5b-beb547f99f38"
   },
   "outputs": [
    {
     "data": {
      "text/plain": [
       "np.float64(0.4772498680518209)"
      ]
     },
     "execution_count": 39,
     "metadata": {},
     "output_type": "execute_result"
    }
   ],
   "source": [
    "norm.cdf(2.0, 2.0, 0.05) - norm.cdf(1.9, 2.0, 0.05)"
   ]
  },
  {
   "cell_type": "markdown",
   "metadata": {
    "id": "hZhrsYtoVNaN"
   },
   "source": [
    "**b) What is the probability that the bottle content is between 1.9 and 2.1 liters?**"
   ]
  },
  {
   "cell_type": "code",
   "execution_count": 40,
   "metadata": {
    "colab": {
     "base_uri": "https://localhost:8080/"
    },
    "executionInfo": {
     "elapsed": 6,
     "status": "ok",
     "timestamp": 1752965067749,
     "user": {
      "displayName": "Dereck Duran",
      "userId": "17766505750008607568"
     },
     "user_tz": 420
    },
    "id": "_NaNfJ17OU7L",
    "outputId": "d67d9e38-abd4-4c2c-9961-01053da01788"
   },
   "outputs": [
    {
     "data": {
      "text/plain": [
       "np.float64(0.9544997361036418)"
      ]
     },
     "execution_count": 40,
     "metadata": {},
     "output_type": "execute_result"
    }
   ],
   "source": [
    "norm.cdf(2.1, 2.0, 0.05) - norm.cdf(1.9, 2.0, 0.05)"
   ]
  },
  {
   "cell_type": "markdown",
   "metadata": {
    "id": "H6fG71TVVNaN"
   },
   "source": [
    "**c) What is the probability that the bottle content is below 1.9 liters or above 2.1 liters?**"
   ]
  },
  {
   "cell_type": "code",
   "execution_count": 41,
   "metadata": {
    "colab": {
     "base_uri": "https://localhost:8080/"
    },
    "executionInfo": {
     "elapsed": 12,
     "status": "ok",
     "timestamp": 1752965135964,
     "user": {
      "displayName": "Dereck Duran",
      "userId": "17766505750008607568"
     },
     "user_tz": 420
    },
    "id": "UCI9fJ5mOU7M",
    "outputId": "12550353-07d7-40f7-a272-08abe0707395"
   },
   "outputs": [
    {
     "data": {
      "text/plain": [
       "np.float64(0.045500263896358195)"
      ]
     },
     "execution_count": 41,
     "metadata": {},
     "output_type": "execute_result"
    }
   ],
   "source": [
    "(1 - norm.cdf(2.1, 2.0, 0.05)) + norm.cdf(1.9, 2.0, 0.05)"
   ]
  },
  {
   "cell_type": "markdown",
   "metadata": {
    "id": "Qc1CMY6PVNaO"
   },
   "source": [
    "**d) 99% of the bottles contain at least what amount of soft drink in them?**"
   ]
  },
  {
   "cell_type": "code",
   "execution_count": 48,
   "metadata": {
    "colab": {
     "base_uri": "https://localhost:8080/"
    },
    "executionInfo": {
     "elapsed": 50,
     "status": "ok",
     "timestamp": 1752965903570,
     "user": {
      "displayName": "Dereck Duran",
      "userId": "17766505750008607568"
     },
     "user_tz": 420
    },
    "id": "OWDxrppKOU7M",
    "outputId": "e0311deb-9168-4f9e-f7b4-70dde6e7a80d"
   },
   "outputs": [
    {
     "data": {
      "text/plain": [
       "np.float64(1.883682606297958)"
      ]
     },
     "execution_count": 48,
     "metadata": {},
     "output_type": "execute_result"
    }
   ],
   "source": [
    "norm.ppf(0.01, 2.0, 0.05)"
   ]
  },
  {
   "cell_type": "markdown",
   "metadata": {
    "id": "cfuKFTnCDTeA"
   },
   "source": [
    "# Sampling Distribution"
   ]
  },
  {
   "cell_type": "markdown",
   "metadata": {
    "id": "azEQu4DoC_Q5"
   },
   "source": [
    "### Q8. Suppose an automobile battery manufacturer claims that the mean lifetime of their battery is 60 months with a standard deviation of 6 months. Suppose the distribution of battery life is approximately normal. Find the probability that the mean lifetime of 40 randomly sampled batteries will be less than 58 months."
   ]
  },
  {
   "cell_type": "code",
   "execution_count": 49,
   "metadata": {
    "colab": {
     "base_uri": "https://localhost:8080/"
    },
    "executionInfo": {
     "elapsed": 5,
     "status": "ok",
     "timestamp": 1752966210597,
     "user": {
      "displayName": "Dereck Duran",
      "userId": "17766505750008607568"
     },
     "user_tz": 420
    },
    "id": "v_djsOQROU7M",
    "outputId": "f491c0b3-05a5-4c39-f3de-4a80f8243b20"
   },
   "outputs": [
    {
     "data": {
      "text/plain": [
       "np.float64(0.017507490509831244)"
      ]
     },
     "execution_count": 49,
     "metadata": {},
     "output_type": "execute_result"
    }
   ],
   "source": [
    "mu = 60\n",
    "sigma = 6\n",
    "n = 40\n",
    "\n",
    "s = sigma / np.sqrt(n)\n",
    "\n",
    "norm.cdf(58, mu, s)"
   ]
  },
  {
   "cell_type": "markdown",
   "metadata": {
    "id": "1TFwIVHqBR8O"
   },
   "source": [
    "# Interval Estimation"
   ]
  },
  {
   "cell_type": "markdown",
   "metadata": {
    "id": "hyfZcgYs_LMD"
   },
   "source": [
    "### Q9. A random sample of 40 households was selected as part of a study on electricity usage, and the number of kilowatt-hours (kWh) was recorded for each household in the sample for the first quarter of 2020. The average usage was found to be 310 kWh. In a very large study in the first quarter of the previous year, it was found that the standard deviation of the usage was 89 kWh.\n",
    "\n",
    "### Assuming the standard deviation is unchanged and that the usage is normally distributed, provide an expression for calculating a 95% confidence interval for the mean usage in the first quarter of 2019."
   ]
  },
  {
   "cell_type": "code",
   "execution_count": 50,
   "metadata": {
    "colab": {
     "base_uri": "https://localhost:8080/"
    },
    "executionInfo": {
     "elapsed": 21,
     "status": "ok",
     "timestamp": 1752966355456,
     "user": {
      "displayName": "Dereck Duran",
      "userId": "17766505750008607568"
     },
     "user_tz": 420
    },
    "id": "pJMui4uTOU7M",
    "outputId": "93bec695-98b7-45d3-88e5-739a6d7c9b60"
   },
   "outputs": [
    {
     "data": {
      "text/plain": [
       "(np.float64(282.419121062447), np.float64(337.580878937553))"
      ]
     },
     "execution_count": 50,
     "metadata": {},
     "output_type": "execute_result"
    }
   ],
   "source": [
    "norm.interval(0.95,310, 89/np.sqrt(40))"
   ]
  },
  {
   "cell_type": "markdown",
   "metadata": {
    "id": "s-lyyiQlOU7M"
   },
   "source": [
    "# Hypothesis Testing"
   ]
  },
  {
   "cell_type": "markdown",
   "metadata": {
    "id": "SeOt9MvlOU7M"
   },
   "source": [
    "### Q10. You are a manager of a Chinese restaurant. You want to determine whether the waiting time to place an order has changed in the past month from its previous population mean value of 4.5 minutes. State the null and alternative hypotheses."
   ]
  },
  {
   "cell_type": "code",
   "execution_count": 51,
   "metadata": {
    "executionInfo": {
     "elapsed": 7,
     "status": "ok",
     "timestamp": 1752966451219,
     "user": {
      "displayName": "Dereck Duran",
      "userId": "17766505750008607568"
     },
     "user_tz": 420
    },
    "id": "6LCroujxOU7N"
   },
   "outputs": [],
   "source": [
    "null_hypothesis = \"The waiting time to place an order has not changed in the past month\"\n",
    "alternate_hypothesis = \"The waiting time to place an order has changed in the past month\""
   ]
  },
  {
   "cell_type": "markdown",
   "metadata": {
    "id": "m2j5-HkbOU7N"
   },
   "source": [
    "### Q11. What is the p-value if in a two-tail hypothesis test Z-stat = +2.00?"
   ]
  },
  {
   "cell_type": "code",
   "execution_count": 52,
   "metadata": {
    "colab": {
     "base_uri": "https://localhost:8080/"
    },
    "executionInfo": {
     "elapsed": 13,
     "status": "ok",
     "timestamp": 1752966524424,
     "user": {
      "displayName": "Dereck Duran",
      "userId": "17766505750008607568"
     },
     "user_tz": 420
    },
    "id": "DfXlofUPOU7N",
    "outputId": "340f4d33-e36a-4d6c-e532-af6eb8fe7a10"
   },
   "outputs": [
    {
     "data": {
      "text/plain": [
       "np.float64(0.02275013194817921)"
      ]
     },
     "execution_count": 52,
     "metadata": {},
     "output_type": "execute_result"
    }
   ],
   "source": [
    "p_value = 1 - norm.cdf(2.00) # why is it this?\n",
    "p_value"
   ]
  },
  {
   "cell_type": "code",
   "execution_count": 53,
   "metadata": {
    "colab": {
     "base_uri": "https://localhost:8080/"
    },
    "executionInfo": {
     "elapsed": 5,
     "status": "ok",
     "timestamp": 1752966535822,
     "user": {
      "displayName": "Dereck Duran",
      "userId": "17766505750008607568"
     },
     "user_tz": 420
    },
    "id": "uK1Gq-vc8m1n",
    "outputId": "3fe1cd21-7bfd-4d37-ebcf-1d94ed8aad6d"
   },
   "outputs": [
    {
     "data": {
      "text/plain": [
       "np.float64(0.04550026389635842)"
      ]
     },
     "execution_count": 53,
     "metadata": {},
     "output_type": "execute_result"
    }
   ],
   "source": [
    "p_value * 2"
   ]
  },
  {
   "cell_type": "code",
   "execution_count": null,
   "metadata": {
    "id": "pcc8h-f88pnu"
   },
   "outputs": [],
   "source": []
  }
 ],
 "metadata": {
  "colab": {
   "collapsed_sections": [
    "g7pg-lWiVNZx",
    "l46Ul-hMd7DD"
   ],
   "provenance": []
  },
  "kernelspec": {
   "display_name": "Python 3",
   "language": "python",
   "name": "python3"
  },
  "language_info": {
   "codemirror_mode": {
    "name": "ipython",
    "version": 3
   },
   "file_extension": ".py",
   "mimetype": "text/x-python",
   "name": "python",
   "nbconvert_exporter": "python",
   "pygments_lexer": "ipython3",
   "version": "3.12.3"
  }
 },
 "nbformat": 4,
 "nbformat_minor": 0
}
