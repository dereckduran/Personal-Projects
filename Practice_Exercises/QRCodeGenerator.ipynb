{
 "cells": [
  {
   "cell_type": "code",
   "execution_count": 5,
   "id": "aa13bb82",
   "metadata": {},
   "outputs": [],
   "source": [
    "import segno as sg"
   ]
  },
  {
   "cell_type": "code",
   "execution_count": 6,
   "id": "ff3c8ea5",
   "metadata": {},
   "outputs": [
    {
     "ename": "AttributeError",
     "evalue": "<class 'segno.QRCode'> object has no attribute make",
     "output_type": "error",
     "traceback": [
      "\u001b[0;31m---------------------------------------------------------------------------\u001b[0m",
      "\u001b[0;31mAttributeError\u001b[0m                            Traceback (most recent call last)",
      "Input \u001b[0;32mIn [6]\u001b[0m, in \u001b[0;36m<cell line: 2>\u001b[0;34m()\u001b[0m\n\u001b[1;32m      1\u001b[0m hello \u001b[38;5;241m=\u001b[39m sg\u001b[38;5;241m.\u001b[39mmake(\u001b[38;5;124m'\u001b[39m\u001b[38;5;124m\"\u001b[39m\u001b[38;5;124mhello world\u001b[39m\u001b[38;5;124m'\u001b[39m)\n\u001b[0;32m----> 2\u001b[0m \u001b[43mhello\u001b[49m\u001b[38;5;241;43m.\u001b[39;49m\u001b[43mmake\u001b[49m(\u001b[38;5;124m'\u001b[39m\u001b[38;5;124mhello.png\u001b[39m\u001b[38;5;124m'\u001b[39m)\n",
      "File \u001b[0;32m~/opt/anaconda3/lib/python3.9/site-packages/segno/__init__.py:970\u001b[0m, in \u001b[0;36mQRCode.__getattr__\u001b[0;34m(self, name)\u001b[0m\n\u001b[1;32m    968\u001b[0m         plugin \u001b[38;5;241m=\u001b[39m ep\u001b[38;5;241m.\u001b[39mload()\n\u001b[1;32m    969\u001b[0m         \u001b[38;5;28;01mreturn\u001b[39;00m partial(plugin, \u001b[38;5;28mself\u001b[39m)\n\u001b[0;32m--> 970\u001b[0m \u001b[38;5;28;01mraise\u001b[39;00m \u001b[38;5;167;01mAttributeError\u001b[39;00m(\u001b[38;5;124m'\u001b[39m\u001b[38;5;132;01m{0}\u001b[39;00m\u001b[38;5;124m object has no attribute \u001b[39m\u001b[38;5;132;01m{1}\u001b[39;00m\u001b[38;5;124m'\u001b[39m\n\u001b[1;32m    971\u001b[0m                      \u001b[38;5;241m.\u001b[39mformat(\u001b[38;5;28mself\u001b[39m\u001b[38;5;241m.\u001b[39m\u001b[38;5;18m__class__\u001b[39m, name))\n",
      "\u001b[0;31mAttributeError\u001b[0m: <class 'segno.QRCode'> object has no attribute make"
     ]
    }
   ],
   "source": [
    "hello = sg.make('hello world')\n",
    "hello.make('hello.png')"
   ]
  },
  {
   "cell_type": "code",
   "execution_count": 7,
   "id": "ce23b085",
   "metadata": {},
   "outputs": [],
   "source": [
    "hello = sg.make('hello world')"
   ]
  },
  {
   "cell_type": "code",
   "execution_count": 10,
   "id": "fa9ac530",
   "metadata": {},
   "outputs": [],
   "source": [
    "hello.save('hello.png',scale = 10)"
   ]
  },
  {
   "cell_type": "code",
   "execution_count": 14,
   "id": "26b227b0",
   "metadata": {},
   "outputs": [
    {
     "name": "stdout",
     "output_type": "stream",
     "text": [
      "Enter the URL for the ColorStack PUPR site:wombo\n"
     ]
    }
   ],
   "source": [
    "url = input(\"Enter the URL for the ColorStack PUPR site:\")"
   ]
  },
  {
   "cell_type": "code",
   "execution_count": 12,
   "id": "bfd47cd8",
   "metadata": {},
   "outputs": [],
   "source": [
    "cs = sg.make('https://colorstackatpupr.github.io/main/index.html')"
   ]
  },
  {
   "cell_type": "code",
   "execution_count": 13,
   "id": "46a98113",
   "metadata": {},
   "outputs": [],
   "source": [
    "cs.save('colorstack.png', scale = 10)"
   ]
  },
  {
   "cell_type": "code",
   "execution_count": null,
   "id": "077b69b4",
   "metadata": {},
   "outputs": [],
   "source": []
  }
 ],
 "metadata": {
  "kernelspec": {
   "display_name": "Python 3",
   "language": "python",
   "name": "python3"
  },
  "language_info": {
   "codemirror_mode": {
    "name": "ipython",
    "version": 3
   },
   "file_extension": ".py",
   "mimetype": "text/x-python",
   "name": "python",
   "nbconvert_exporter": "python",
   "pygments_lexer": "ipython3",
   "version": "3.12.3"
  }
 },
 "nbformat": 4,
 "nbformat_minor": 5
}
